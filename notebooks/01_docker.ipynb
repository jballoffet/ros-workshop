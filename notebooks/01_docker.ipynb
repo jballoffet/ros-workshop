{
 "cells": [
  {
   "cell_type": "markdown",
   "metadata": {},
   "source": [
    "# Utilizando Docker\n",
    "Este notebook contiene una guía sobre cómo utilizar Docker para la ejecución de las simulaciones.\n",
    "\n",
    "**Autor:** _Ing. Emiliano J. Borghi Orué_ (eborghiorue@frba.utn.edu.ar) \n",
    "\n",
    "![Banner](media/banner.png)\n"
   ]
  },
  {
   "cell_type": "markdown",
   "execution_count": null,
   "metadata": {},
   "outputs": [],
   "source": [
    "## ¿Qué es Docker?\n",
    "\n",
    "Docker es una herramienta similar a las [máquinas virtuales](https://computerhoy.com/noticias/software/que-es-maquina-virtual-como-funciona-que-sirve-46606), pero con unas pequeñas diferencias que lo hacen más portable y eficiente.\n",
    "\n",
    "Docker utiliza el kernel del host, por lo que no es posible usar una imagen de Linux en una computadora con Windows.\n",
    "\n",
    "Para el proyecto, Docker se usa para generar un simil máquina virtual con el entorno y las dependencias que se necesitan, y así, se evitan problemas de incompatibilidades entre distintos sistemas.\n",
    "\n",
    "Como ROS y Gazebo corren en Ubuntu, será necesario contar con una computadora con alguna distribución Linux.\n",
    "\n",
    "Por única vez, será necesario compilar la imagen de Docker y luego, cada vez que se desee executar la simulación, se puede ejecutar un __container__.\n",
    "\n",
    "### Cómo compilar la imagen\n",
    "\n",
    "Para poder compilar la imagen de Docker, se necesita ejecutar lo siguiente:\n"
   ]
  },
  {
   "cell_type": "code",
   "metadata": {},
   "source": [
    "cd /path/to/create_autonomy\n",
    "./docker/build\n"
   ]
  },
  {
   "cell_type": "markdown",
   "metadata": {},
   "source": [
    "Esto generará una imagen de Docker que ejecutaremos luego como un container.\n",
    "Es importante ver que los comandos **deben ejecutarse dentro de la carpeta `create_autonomy`** [configurada previamente](https://github.com/RoboticaUtnFrba/ros-workshop/blob/master/notebooks/00_primera_clase.ipynb).\n\n",
    "Antes de ejecutar el comando anterior es necesario saber si contamos con una GPU y [`nvidia-docker`](https://github.com/NVIDIA/nvidia-docker).\n",
    "\n",
    "\n",
    "### Levantar un primer container\n",
    "\n",
    "La primera vez que se enciende la computadora, el container de Docker no va a estar ejecutando, por lo que tendremos que levantarlo nosotros. Para ello, haremos:\n"
   ]
  },
  {
   "cell_type": "code",
   "metadata": {},
   "source": [
    "./docker/run\n"
   ]
  },
  {
   "cell_type": "markdown",
   "metadata": {},
   "source": [
    "Esto nos abrirá un entorno virtual ya estando dentro de un espacio de trabajo de ROS, listo para trabajar.\n",
    "Como podrán notar, Docker solamente está disponible dentro de la terminal que estamos usando. Para poder tener varias ventanas abiertas con nuestro espacio de trabajo, hay dos maneras de hacerlo:\n",
    "1. Ejecutar una nueva sesión en una ventana nueva\n",
    "2. Usar tmux\n",
    "\n",
    "### Levantar una nueva sesión\n",
    "Para correr en una nueva ventana el Docker, hay que ejecutar el mismo comando que para levantarlo por primera vez:\n"
   ]
  },
  {
   "cell_type": "code",
   "metadata": {},
   "source": [
    "./docker/run\n"
   ]
  },
  {
   "cell_type": "markdown",
   "metadata": {},
   "source": [
    "Van a notar que se limpia la pantalla y aparece algo como:\n",
    "`create@...`\n",
    "siendo `create` el nombre del usuario dentro del container\n\n",
    "### Attachearse a una sesión existente\n",
    "En cambio, si inesperadamente se cerró la ventana que estaba usando, es posible volver a ella con el comando:\n"
   ]
  },
  {
   "cell_type": "code",
   "metadata": {},
   "source": [
    "docker attach robotica_utn_frba\n"
   ]
  },
  {
   "cell_type": "markdown",
   "metadata": {},
   "source": [
    "## Avanzado: Tmux\n",
    "Tmux te permite dividir una terminal para no tener que abrir muchas. Viene instalado dentro del Docker, así que solamente es necesario ejecutar:"
   ]
  },
  {
   "cell_type": "code",
   "metadata": {},
   "source": [
    "tmux\n"
   ]
  },
  {
   "cell_type": "markdown",
   "metadata": {},
   "source": [
    "### [Comandos útiles](https://tmuxcheatsheet.com/)\n",
    "\n",
    "## Referencias\n",
    "\n",
    "- [Docker](https://www.docker.com/get-started)\n",
    "- [Tmux](https://www.hamvocke.com/blog/a-quick-and-easy-guide-to-tmux)\n"
   ]
  }
 ],
 "metadata": {
  "kernelspec": {
   "display_name": "Python 2",
   "language": "python",
   "name": "python2"
  },
  "language_info": {
   "codemirror_mode": {
    "name": "ipython",
    "version": 2
   },
   "file_extension": ".py",
   "mimetype": "text/x-python",
   "name": "python",
   "nbconvert_exporter": "python",
   "pygments_lexer": "ipython2",
   "version": "2.7.17-final"
  }
 },
 "nbformat": 4,
 "nbformat_minor": 1
}