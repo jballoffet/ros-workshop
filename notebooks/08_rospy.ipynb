{
 "nbformat": 4,
 "nbformat_minor": 2,
 "metadata": {
  "language_info": {
   "name": "python",
   "codemirror_mode": {
    "name": "ipython",
    "version": 3
   }
  },
  "orig_nbformat": 2,
  "file_extension": ".py",
  "mimetype": "text/x-python",
  "name": "python",
  "npconvert_exporter": "python",
  "pygments_lexer": "ipython3",
  "version": 3
 },
 "cells": [
  {
   "cell_type": "markdown",
   "metadata": {},
   "source": [
    "# Ejemplo básico para mover el robot\n",
    "Cómo mover el robot (en simulador) usando Python.\n",
    "\n",
    "**Autor:** _Ing. Emiliano J. Borghi Orué_ (eborghiorue@frba.utn.edu.ar) \n",
    "\n",
    "![Banner](media/banner.png)\n"
   ]
  },
  {
   "cell_type": "markdown",
   "metadata": {},
   "source": [
    "# Creación de un paquete de Python\n",
    "Se empezará creando un paquete de Python para luego ejecutar un nodo que moverá al robot de manera autónoma. Esto ya se ha explicado de manera general en el notebook de Introducción a ROS.",
    "Para ello, se usará el código disponible [aquí](https://gist.github.com/eborghi10/a936935dc86aa4556f4adffccda8fd3d).\n",
    "Viendo las primeras líneas de código (donde se importan las dependencias, podemos ver qué librerías se necesitan especificar a la hora de crear un paquete:\n",
    "- `rospy`\n",
    "- `nav_msgs`\n",
    "- `geometry_msgs`\n\n",
    "Entonces, para crear un paquete con dichas dependencias, debemos ir, dentro del Docker, a `/create_ws/src` y ejecutar:"
   ]
  },
  {
   "cell_type": "code",
   "execution_count": null,
   "metadata": {},
   "outputs": [],
   "source": [
      "cd /create_ws/src\n",
      "catkin_create_pkg mi_nuevo_paquete rospy nav_msgs geometry_msgs"
   ]
  },
  {
   "cell_type": "markdown",
   "metadata": {},
   "source": [
    "No es mandatorio especificar las dependencias al momento de crear el paquete pero sí recomendable debido a que si no se hace en ese momento, deberán editarse luego los archivo `package.xml` y `CMakeLists.txt`.\n\n",
    "Como deseamos crear un script de Python, lo primero que vamos a hacer para cumplir con la [organización de paquetes propuesta en ROS](http://wiki.ros.org/Packages#Common_Files_and_Directories) creando una carpeta `scripts` dentro del paquete donde luego pondremos nuestro nodo a ejecutar."
   ]
  },
  {
   "cell_type": "code",
   "execution_count": null,
   "metadata": {},
   "outputs": [],
   "source": [
      "mkdir -p /create_ws/src/mi_nuevo_paquete/scripts\n",
      "touch /create_ws/src/mi_nuevo_paquete/scripts/mi_nodo.py"
   ]
  },
  {
   "cell_type": "markdown",
   "metadata": {},
   "source": [
    "Un importante paso es no olvidarse de especificar el archivo de Python como ejecutable así puede ser detectado por ROS."
   ]
  },
  {
   "cell_type": "code",
   "execution_count": null,
   "metadata": {},
   "outputs": [],
   "source": [
      "sudo chmod +x mi_nodo.py"
   ]
  },
  {
   "cell_type": "markdown",
   "metadata": {},
   "source": [
    "Una vez hecho esto, podemos agregar contenido al nodo de Python. [Copiar el ejemplo provisto](https://gist.github.com/eborghi10/a936935dc86aa4556f4adffccda8fd3d#file-mi_nodo-py).\n",
    "Este paso puede hacerse fuera del Docker. ¿Por qué? Docker elimina todas las instalaciones y cambios realizados en la mayoría de las carpetas internas del mismo, con algunas excepciones.\n",
    "Por ejemplo, todo los archivos que creemos/modifiquemos dentro de `/create_ws/src/` no se eliminarán una vez que se cierre porque es una carpeta compartida entre el *host* (computadora local) y la imagen de Docker.\n",
    "De este modo, el archivo puede ser modificado usando cualquier editor de código que se disponga.\n\n",
    "**Nota:** Debido a lo anterior, la creación del paquete también es posible hacerla fuera del Docker.\n\n",
    "# Testeo del nodo creado\n",
    "Existen varias maneras de testar que nuestro nodo funcione. Pero primero, tenemos que correr la simulación: para ello, debemos ejecutar en una terminal del Docker la siguiente instrucción:"
   ]
  },
  {
   "cell_type": "code",
   "execution_count": null,
   "metadata": {},
   "outputs": [],
   "source": [
      "roslaunch ca_gazebo create_empty_world.launch"
   ]
  },
  {
   "cell_type": "markdown",
   "metadata": {},
   "source": [
    "Hay maneras de configurar la simulación para seleccionar:\n",
    "- El sensor que el robot usa\n",
    "- El ambiente en donde se va a mover\n",
    "- Qué tarea realizar (mapeo, navegación, ninguna, etc)\n",
    "- ...\n\n",
    "Esto está explicado en el notebook 4 con instrucciones para ejecutar el simulador.\n\n",
    "## rosrun\n",
    "Para ejecutar el nodo usando `rosrun` simplemente debemos hacer lo siguiente en una nueva terminal:"
   ]
  },
  {
   "cell_type": "code",
   "execution_count": null,
   "metadata": {},
   "outputs": [],
   "source": [
      "rosrun mi_nuevo_paquete mi_nodo.py"
   ]
  },
  {
   "cell_type": "markdown",
   "metadata": {},
   "source": [
    "Nótese que el comando requiere el páquete de ROS donde está alojado, y el nombre del archivo.\n\n",
    "## RQt Graph\n",
    "Una manera de verificar que los nodos (`gazebo` y `mi_nodo`) estén comunicándose es ejecutando una interfaz visual:"
   ]
  },
  {
   "cell_type": "code",
   "execution_count": null,
   "metadata": {},
   "outputs": [],
   "source": [
      "rqt_graph"
   ]
  },
  {
   "cell_type": "markdown",
   "metadata": {},
   "source": [
    "Una vez abierto, seleccionar la opcion **Nodes/Topics (all)**.\n\n",
    "![rqt_graph](media/rqt_graph.png)\n\n",
    "## Ejecutar el nodo usando un launch file\n",
    "El nodo puede ejecutarse (junto con otros nodos) usando un launch file, en vez de recurrir a `rosrun`. Para ello, hay que crear una carpeta `launch` dentro del paquete `mi_nuevo_paquete` y el respectivo lauch file."
   ]
  },
  {
   "cell_type": "code",
   "execution_count": null,
   "metadata": {},
   "outputs": [],
   "source": [
      "mkdir -p /create_ws/src/mi_nuevo_paquete/launch\n",
      "touch -p /create_ws/src/mi_nuevo_paquete/launch/ejecutable.launch"
   ]
  },
  {
   "cell_type": "markdown",
   "metadata": {},
   "source": [
    "Dentro de ese launch file, copiar [el siguiente código](https://gist.github.com/eborghi10/a936935dc86aa4556f4adffccda8fd3d#file-ejecutable-launch).\n\n",
    "# Para seguir practicando\n",
    "Hacer lo mismo con [este código](https://gist.github.com/eborghi10/20d2bc13f181e351dd4196b05a5b8ba6)."
   ]
  }
 ]
}