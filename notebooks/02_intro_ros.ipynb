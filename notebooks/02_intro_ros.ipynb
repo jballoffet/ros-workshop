{
 "cells": [
  {
   "cell_type": "markdown",
   "metadata": {},
   "source": [
    "## Taller introductorio sobre ROS\n",
    "\n",
    "Introducción a los conceptos básicos de ROS.\n",
    "\n",
    "**Dictante:** _Ing. Emiliano J. Borghi Orué_ (eborghiorue@frba.utn.edu.ar) \n",
    "\n",
    "![Banner](media/banner.png)\n"
   ]
  },
  {
   "cell_type": "markdown",
   "metadata": {},
   "source": [
    "### roscore\n",
    "\n",
    "`roscore` es lo primero que hay que ejecutar en ROS porque se va a encargar del control de _nodos_."
   ]
  },
  {
   "cell_type": "code",
   "execution_count": null,
   "metadata": {},
   "outputs": [],
   "source": [
    "%%bash --bg \n",
    "roscore &"
   ]
  },
  {
   "cell_type": "markdown",
   "metadata": {},
   "source": [
    "### ¿Qué es un nodo?\n",
    "\n",
    "Un nodo es un componente de ROS (programa) que puede enviar y/o recibir mensajes (_tópicos_). \n",
    "`rosnode list` es un comando que permite ver los nodos activos:"
   ]
  },
  {
   "cell_type": "code",
   "execution_count": null,
   "metadata": {},
   "outputs": [],
   "source": [
    "%%bash\n",
    "rosnode list"
   ]
  },
  {
   "cell_type": "code",
   "execution_count": null,
   "metadata": {},
   "outputs": [],
   "source": [
    "%%bash\n",
    "rosnode info rosout"
   ]
  },
  {
   "cell_type": "markdown",
   "metadata": {},
   "source": [
    "### Executando nodos con `rosrun`\n",
    "\n",
    "`rosrun` es un comando que permite correr aquellos nodos que se encuentren dentro de un _paquete_.\n",
    "En este caso, ejecutaremos un simulador en 2D de un robot tortuga:"
   ]
  },
  {
   "cell_type": "code",
   "execution_count": null,
   "metadata": {},
   "outputs": [],
   "source": [
    "%%bash --bg\n",
    "rosrun turtlesim turtlesim_node &"
   ]
  },
  {
   "cell_type": "markdown",
   "metadata": {},
   "source": [
    "> **NOTA:** Este comando necesita que el Máster se esté ejecutando para poder funcionar"
   ]
  },
  {
   "cell_type": "code",
   "execution_count": null,
   "metadata": {},
   "outputs": [],
   "source": [
    "%%bash\n",
    "rosnode list"
   ]
  },
  {
   "cell_type": "markdown",
   "metadata": {},
   "source": [
    "### ¿Cómo se comunican los nodos? \n",
    "`rostopic` permite obtener información acerca de los mensajes que se están intercambiando entre los nodos. Técnicamente, se conocen como **tópicos**.\n",
    "\n",
    "Para ver los subcomandos que `rostopic` provee, puedo usar el flag de ayuda `-h`:"
   ]
  },
  {
   "cell_type": "code",
   "execution_count": null,
   "metadata": {},
   "outputs": [],
   "source": [
    "%%bash\n",
    "rostopic -h"
   ]
  },
  {
   "cell_type": "markdown",
   "metadata": {},
   "source": [
    "`rostopic list` retorna una lista con todos los tópicos activos (que están publicando y/o suscribiéndose a un nodo)."
   ]
  },
  {
   "cell_type": "code",
   "execution_count": null,
   "metadata": {},
   "outputs": [],
   "source": [
    "%%bash\n",
    "rostopic list -v"
   ]
  },
  {
   "cell_type": "markdown",
   "metadata": {},
   "source": [
    "Los _nodos_, para poder establecer el _tópico_ de la comunicación, deben estar hablando el mismo \"idioma\". Esto quiere decir que cada tópico debe tener un tipo de **mensaje** determinado. Para poder saber qué tipo de _mensaje_ está siendo utilizado en cierto _tópico_ puedo usar `rostopic type`."
   ]
  },
  {
   "cell_type": "code",
   "execution_count": null,
   "metadata": {},
   "outputs": [],
   "source": [
    "%%bash\n",
    "rostopic type /turtle1/cmd_vel"
   ]
  },
  {
   "cell_type": "markdown",
   "metadata": {},
   "source": [
    "Si quiero conocer en detalle cómo está constituido un mensaje, ROS me concede del comando `rosmsg`:"
   ]
  },
  {
   "cell_type": "code",
   "execution_count": null,
   "metadata": {},
   "outputs": [],
   "source": [
    "%%bash\n",
    "rosmsg show geometry_msgs/Twist"
   ]
  },
  {
   "cell_type": "markdown",
   "metadata": {},
   "source": [
    "Como todo _tópico_, se puede crear un nodo con el cual publicar mensajes, por lo cual se usará `rostopic pub`."
   ]
  },
  {
   "cell_type": "code",
   "execution_count": null,
   "metadata": {},
   "outputs": [],
   "source": [
    "%%bash --bg\n",
    "rostopic pub --once /turtle1/cmd_vel geometry_msgs/Twist -- \\\n",
    "'[2.0, 0.0, 0.0]' '[0.0, 0.0, 1.8]'"
   ]
  },
  {
   "cell_type": "markdown",
   "metadata": {},
   "source": [
    "El comando previo envía un único mensaje a la tortuga diciéndole que se mueva con velocidad lineal de 2 m/s y una velocidad angular de 1.8 rad/s.\n",
    "\n",
    "Veamos el comando anterior en detalle.\n",
    "\n",
    "* El comando permite publicar mensajes en un cierto tópico:  \n",
    "    `rostopic pub`\n",
    "* Esta opción hace que se envien mensajes cada 1 Hz (una vez por segundo). Sin este parámetro, la tortuga se frenaría luego de cierto tiempo:  \n",
    "    `-r 1` \n",
    "* Lo siguiente es el nombre del tópico al cual se quiere enviar el mensaje:  \n",
    "    `/turtle1/cmd_vel`\n",
    "* El tipo de mensaje que se debe usar para poder enviar el mensaje:  \n",
    "    `geometry_msgs/Twist`\n",
    "* Esta opción no es muy usual pero sirve para decirle al compilador que ninguno de los siguientes argumentos es una opción, ya que en caso de quiere usar números negativos podrían confundirse con el guión.  \n",
    "    `--`\n",
    "* Como se vio anteriormente, un mensaje del tipo `geometry_msgs/Twist` tiene dos vectores con tres elementos `float64` cada uno: `linear` y `angular`.\n",
    "    `'[2.0, 0.0, 0.0]' '[0.0, 0.0, 1.8]'`\n"
   ]
  },
  {
   "cell_type": "markdown",
   "metadata": {},
   "source": [
    "<img src=\"media/publish-subscribe.png\" />"
   ]
  },
  {
   "cell_type": "markdown",
   "metadata": {},
   "source": [
    "## Servicios\n",
    "----\n",
    "Los _Servicios_ son otra manera de comunicación entre nodos. Son un método de comunicación bidireccional donde uno realiza un pedido (**request**), y el otro, responde (**response**).\n",
    "<img src=\"media/services.png\" />"
   ]
  },
  {
   "cell_type": "markdown",
   "metadata": {},
   "source": [
    "### Usando `rosservice`\n",
    "`rosservice` tiene muchos comandos disponibles:"
   ]
  },
  {
   "cell_type": "code",
   "execution_count": null,
   "metadata": {},
   "outputs": [],
   "source": [
    "%%bash\n",
    "rosservice -h"
   ]
  },
  {
   "cell_type": "markdown",
   "metadata": {},
   "source": [
    "El comando `list` muestra que el nodo `turtlesim` provee nueve servicios: `reset`, `clear`, `spawn`, `kill`, `turtle1/set_pen`, `/turtle1/teleport_absolute`, `/turtle1/teleport_relative`, `turtlesim/get_loggers`, and `turtlesim/set_logger_level`. Además, existen dos servicios relacionados con el nodo `rosout`: `/rosout/get_loggers` y `/rosout/set_logger_level`."
   ]
  },
  {
   "cell_type": "code",
   "execution_count": null,
   "metadata": {},
   "outputs": [],
   "source": [
    "%%bash\n",
    "rosservice list"
   ]
  },
  {
   "cell_type": "markdown",
   "metadata": {},
   "source": [
    "Para ver más en detenimiento sobre un servicio, basta con usar el comando `rosservice type`:"
   ]
  },
  {
   "cell_type": "code",
   "execution_count": null,
   "metadata": {},
   "outputs": [],
   "source": [
    "%%bash\n",
    "rosservice type clear"
   ]
  },
  {
   "cell_type": "markdown",
   "metadata": {},
   "source": [
    "Este servicio es del tipo `Empty`, esto quiere decir que no necesita argumentos para ser llamado (envía un campo vacío como **request** y recibe otro campo vacío como **response**). Procedamos a utilizarlo con `rosservice call`. \n"
   ]
  },
  {
   "cell_type": "code",
   "execution_count": null,
   "metadata": {},
   "outputs": [],
   "source": [
    "%%bash\n",
    "rosservice call clear \"{}\""
   ]
  },
  {
   "cell_type": "markdown",
   "metadata": {},
   "source": [
    "Como resultado de esta llamada, se borró el fondo de `turtlesim_node`.\n",
    "\n",
    "Si en cambio deseamos llamar a un servicio que posee argumentos, como es el caso de `spawn`:"
   ]
  },
  {
   "cell_type": "code",
   "execution_count": null,
   "metadata": {},
   "outputs": [],
   "source": [
    "%%bash\n",
    "rosservice type spawn | rossrv show"
   ]
  },
  {
   "cell_type": "markdown",
   "metadata": {},
   "source": [
    "Este servicio nos permite generar una nueva tortuga en el lugar que nosotros especifiquemos como argumento. El campo _name_ es opcional, por lo que no se lo daremos."
   ]
  },
  {
   "cell_type": "code",
   "execution_count": null,
   "metadata": {},
   "outputs": [],
   "source": [
    "%%bash\n",
    "rosservice call spawn 2 2 0.2 \"\""
   ]
  },
  {
   "cell_type": "markdown",
   "metadata": {},
   "source": [
    "\n",
    "## Usando `rosparam`"
   ]
  },
  {
   "cell_type": "markdown",
   "metadata": {},
   "source": [
    "`rosparam` permite almacenar y manipular datos en ROS ([más información](http://wiki.ros.org/Parameter%20Server)). `rosparam` usa el lenguaje _YAML_ como sintaxis. Algunos ejemplos pueden ser: `1` es un entero, `1.0` es un flotante, `one` es un _string_, `true` es un _boolean_, `[1, 2, 3]` es una lista de enteros, y `{a: b, c: d}` es un diccionario. Los comandos que pueden usarse con `rosparam` se listan a continuación:"
   ]
  },
  {
   "cell_type": "code",
   "execution_count": null,
   "metadata": {},
   "outputs": [],
   "source": [
    "%%bash\n",
    "rosparam -h"
   ]
  },
  {
   "cell_type": "markdown",
   "metadata": {},
   "source": [
    "Veamos qué parámetros existen actualmente:"
   ]
  },
  {
   "cell_type": "code",
   "execution_count": null,
   "metadata": {},
   "outputs": [],
   "source": [
    "%%bash\n",
    "rosparam list"
   ]
  },
  {
   "cell_type": "markdown",
   "metadata": {},
   "source": [
    "Para modificar uno de estos parámetros usaremos `rosparam set`:"
   ]
  },
  {
   "cell_type": "code",
   "execution_count": null,
   "metadata": {},
   "outputs": [],
   "source": [
    "%%bash\n",
    "rosparam set /turtlesim/background_r 150"
   ]
  },
  {
   "cell_type": "markdown",
   "metadata": {},
   "source": [
    "Para que este cambio tome efecto debe llamarse a:"
   ]
  },
  {
   "cell_type": "code",
   "execution_count": null,
   "metadata": {},
   "outputs": [],
   "source": [
    "%%bash\n",
    "rosservice call clear"
   ]
  },
  {
   "cell_type": "markdown",
   "metadata": {},
   "source": [
    "Puede llamarse directamente a `rosparam get /` para acceder al contenido de todos los parámetros."
   ]
  },
  {
   "cell_type": "code",
   "execution_count": null,
   "metadata": {},
   "outputs": [],
   "source": [
    "%%bash\n",
    "rosparam get /"
   ]
  },
  {
   "cell_type": "markdown",
   "metadata": {},
   "source": [
    "## Acciones\n",
    "<img src=\"media/actions.png\"/>\n",
    "Las *acciones* son llamadas asincrónicas a servicios.\n",
    "Cuando se llama a una acción, se hace una solicitud a una funcionalidad que provee otro nodo. Es muy similar a los servicios, salvo que, cuando se llama a un servicio, debe esperar a que se finalice. En cambio, esto no es necesario para las acciones."
   ]
  },
  {
   "cell_type": "markdown",
   "metadata": {},
   "source": [
    "A continuación se ejecutará un servidor (`turtle_shape`) que permite enviar comandos de velocidad a la tortuga para dibujar formas:"
   ]
  },
  {
   "cell_type": "code",
   "execution_count": null,
   "metadata": {},
   "outputs": [],
   "source": [
    "%%bash\n",
    "rosrun turtle_actionlib shape_server"
   ]
  },
  {
   "cell_type": "markdown",
   "metadata": {},
   "source": [
    "Y cada vez que se encuentra activo, pueden observarse cinco tópicos con características distintivas:"
   ]
  },
  {
   "cell_type": "code",
   "execution_count": null,
   "metadata": {},
   "outputs": [],
   "source": [
    "%%bash\n",
    "rostopic list | grep turtle_shape"
   ]
  },
  {
   "cell_type": "markdown",
   "metadata": {},
   "source": [
    "### Llamando a un action server\n",
    "Lo primero que debe hacerse es verificar qué tipo de mensaje requiere el `goal`:"
   ]
  },
  {
   "cell_type": "code",
   "execution_count": null,
   "metadata": {},
   "outputs": [],
   "source": [
    "%%bash\n",
    "rosmsg show `rostopic type /turtle_shape/goal`"
   ]
  },
  {
   "cell_type": "markdown",
   "metadata": {},
   "source": [
    "### Llamando a un action server\n",
    "Es un tipo de mensaje complejo, pero observemos qué sucede cuando se envía un mensaje para que la tortuga dibuje una forma de cinco lados:"
   ]
  },
  {
   "cell_type": "code",
   "execution_count": null,
   "metadata": {},
   "outputs": [],
   "source": [
    "%%bash\n",
    "rostopic pub -1 /turtle_shape/goal turtle_actionlib/ShapeActionGoal  -- \\\n",
    "\"{header: {seq: 0, stamp: {secs: 0, nsecs: 0}, frame_id: ''}, \\\n",
    "goal_id: {stamp: {secs: 0, nsecs: 0}, id:''}, goal: {edges: 5, radius: 2.0}}\""
   ]
  },
  {
   "cell_type": "markdown",
   "metadata": {},
   "source": [
    "### Llamando a un action server\n",
    "Durante el recorrido puede cancelarse la acción llamando al nodo `turtle_shape/cancel`:"
   ]
  },
  {
   "cell_type": "code",
   "execution_count": null,
   "metadata": {},
   "outputs": [],
   "source": [
    "%%bash\n",
    "rostopic pub /turtle_shape/cancel actionlib_msgs/GoalID -- \\\n",
    "\"{stamp: {secs: 0, nsecs: 0}, id: ''}\""
   ]
  },
  {
   "cell_type": "markdown",
   "metadata": {},
   "source": [
    "Para tener un mayor control sobre el progreso de la acción, pueden accederse a los tópicos del servidor.\n",
    "<img src=\"media/action-interface.png\" />"
   ]
  },
  {
   "cell_type": "markdown",
   "metadata": {},
   "source": [
    "## ¿Cómo se trabaja con ROS en la PC? \n",
    "### [Espacio de trabajo](http://wiki.ros.org/catkin/Tutorials/create_a_workspace)\n",
    "\n",
    "Todo proyecto que vayamos a realizar contenerá muchos _nodos_ de ROS que estarán distribuidos dentro de _paquetes_.\n",
    "Estos _paquetes_ tienen que estar dispuestos en un directorio reconocido por ROS para poder ser utilizados, y suele ser un lugar común donde el usuario crea sus _paquetes_ propios.\n",
    "Esta zona se conoce como **espacio de trabajo** y se crea muy fácilmente. Se crea una carpeta vacía, y una vez dentro, se ejecuta el comando `catkin_make`. [Catkin](http://wiki.ros.org/catkin/conceptual_overview) es una herramienta para simplificar la compilación de código en ROS."
   ]
  },
  {
   "cell_type": "code",
   "execution_count": null,
   "metadata": {},
   "outputs": [],
   "source": [
    "%%bash \n",
    "mkdir -p ~/catkin_ws/src\n",
    "cd ~/catkin_ws/\n",
    "catkin_make"
   ]
  },
  {
   "cell_type": "markdown",
   "metadata": {},
   "source": [
    "\n",
    "El paso anterior generó un espacio de trabajo (`catkin_ws`) pero ROS no está enterado aún sobre su existencia debido a que la variable de entorno no tiene asignado su valor.\n",
    "\n",
    "**Nota:** No es estrictamente necesario que el workspace se llame así. En el caso del proyecto `create_autonomy`, se llama `create_ws`."
   ]
  },
  {
   "cell_type": "code",
   "execution_count": null,
   "metadata": {},
   "outputs": [],
   "source": [
    "%%bash \n",
    "echo $ROS_PACKAGE_PATH"
   ]
  },
  {
   "cell_type": "markdown",
   "metadata": {},
   "source": [
    "#### Antes de usar nuestro espacio de trabajo\n",
    "\n",
    "Para \"dar aviso\" a ROS, solo basta con tipear el siguiente comando **en el directorio `/catkin_ws`** (_¡importante!_)."
   ]
  },
  {
   "cell_type": "code",
   "execution_count": null,
   "metadata": {},
   "outputs": [],
   "source": [
    "%%bash \n",
    "source ~/catkin_ws/devel/setup.bash"
   ]
  },
  {
   "cell_type": "markdown",
   "metadata": {},
   "source": [
    "Una vez creado el espacio de trabajo se pueden agregar cuantos paquetes deseemos."
   ]
  },
  {
   "cell_type": "markdown",
   "metadata": {},
   "source": [
    "##### Una alternativa automática\n",
    "\n",
    "Para que la ejecución anterior se realice cada vez que se abre una nueva terminal, se añade la instrucción al `.bashrc` (que es el programa que se ejecuta al abrir una nueva terminal) del siguiente modo:"
   ]
  },
  {
   "cell_type": "code",
   "execution_count": null,
   "metadata": {},
   "outputs": [],
   "source": [
    "%%bash\n",
    "echo \"source ~/catkin_ws/devel/setup.bash\" >> ~/.bashrc\n",
    "source ~/.bashrc"
   ]
  },
  {
   "cell_type": "markdown",
   "metadata": {},
   "source": [
    "## [Paquetes](http://wiki.ros.org/ROS/Tutorials/CreatingPackage)\n",
    "\n",
    "Los _paquetes_ deben ser creados dentro de la carpeta `src` del espacio de trabajo, en nuestro caso, `~/catkin_ws/src`.\n",
    "Una vez allí, se necesita un solo comando con la siguiente forma: \n",
    "\n",
    "`catkin_create_pkg <package_name> [depend1] [depend2] [depend3]`"
   ]
  },
  {
   "cell_type": "markdown",
   "metadata": {},
   "source": [
    "Donde `<package_name>` es el nombre con el que queremos nombrar al paquete, y los siguientes argumentos son dependencias (otros paquetes de ROS que vamos a utilizar), que para el caso del Turtlebot, serán tres:\n",
    "\n",
    "- `rospy` (necesario para crear nodos de ROS en Python)\n",
    "- `geometry_msgs`\n",
    "- `std_msgs`\n",
    "\n",
    "Entonces, el comando quedará de la siguiente manera:\n"
   ]
  },
  {
   "cell_type": "code",
   "execution_count": null,
   "metadata": {},
   "outputs": [],
   "source": [
    "%%bash\n",
    "cd ~/catkin_ws/src\n",
    "catkin_create_pkg mi_paquete rospy std_msgs geometry_msgs"
   ]
  },
  {
   "cell_type": "markdown",
   "metadata": {},
   "source": [
    "El comando anterior nos generó un paquete con la siguiente estructura: "
   ]
  },
  {
   "cell_type": "code",
   "execution_count": null,
   "metadata": {},
   "outputs": [],
   "source": [
    "%%bash \n",
    "ls -lh ~/catkin_ws/src/mi_paquete"
   ]
  },
  {
   "cell_type": "markdown",
   "metadata": {},
   "source": [
    "### [Compilar un paquete](http://wiki.ros.org/ROS/Tutorials/BuildingPackages)\n",
    "\n",
    "Para compilar un paquete, es necesario volver a ejecutar `catkin_make` en el directorio root del espacio de trabajo."
   ]
  },
  {
   "cell_type": "code",
   "execution_count": null,
   "metadata": {},
   "outputs": [],
   "source": [
    "%%bash \n",
    "cd ~/catkin_ws/\n",
    "catkin_make"
   ]
  },
  {
   "cell_type": "markdown",
   "metadata": {},
   "source": [
    "#### ¿En qué se diferencia un directorio normal de un paquete de ROS?\n",
    "\n",
    "ROS reconoce un paquete por contener dos archivos:\n",
    "\n",
    "- El archivo `CMakeLists.txt` contiene toda la información necesaria para la compilación del paquete y está basado en el estándar utilizado para [cmake](https://cmake.org/overview/).\n",
    "- El archivo `package.xml` contiene la metadata del paquete, esto es, dependencias, autor, versión, etc."
   ]
  },
  {
   "cell_type": "markdown",
   "metadata": {},
   "source": [
    "## iRobot Create 2 en Gazebo\n",
    "\n",
    "Lo primero que hay que hacer es ejecutar el simulador _Gazebo_ con la _iRobot Create 2_.\n",
    "Además, será necesario instalar algunas dependencias.\n",
    "Esta sección se recomienda ejecutarla en el docker de `create_autonomy` y dividir la pantalla de la terminal usando [Tmux](https://www.hamvocke.com/blog/a-quick-and-easy-guide-to-tmux/) o abrir una nueva sesión de Docker."
   ]
  },
  {
   "cell_type": "code",
   "execution_count": null,
   "metadata": {},
   "outputs": [],
   "source": [
    "%%bash --bg \n",
    "export LOCALIZATION=slam\n",
    "export RVIZ=true\n",
    "export RVIZ_CONFIG=navigation\n",
    "roslaunch ca_gazebo create_maze.launch &"
   ]
  },
  {
   "cell_type": "markdown",
   "metadata": {},
   "source": [
    "#### Observaciones iniciales\n",
    "\n",
    "Veamos que tópicos ofrece la simulación:"
   ]
  },
  {
   "cell_type": "code",
   "execution_count": null,
   "metadata": {},
   "outputs": [],
   "source": [
    "%%bash\n",
    "rostopic list"
   ]
  },
  {
   "cell_type": "markdown",
   "metadata": {},
   "source": [
    "#### Mover al robot con el teclado\n",
    "\n",
    "A continuación se muestra el código necesario para ejecutar un nodo que mueva el Create 2 usando el teclado de la computadora. Para que funcione, es **necesario abrirlo en una nueva terminal y mantener esta terminal seleccionada**: "
   ]
  },
  {
   "cell_type": "code",
   "execution_count": null,
   "metadata": {},
   "outputs": [],
   "source": [
    "roslaunch ca_tools keyboard_teleop.launch"
   ]
  },
  {
   "cell_type": "markdown",
   "metadata": {},
   "source": [
    "#### Usar RViz para debuggear\n",
    "\n",
    "RViz es un programa de ROS para visualizar datos de robots."
   ]
  },
  {
   "cell_type": "code",
   "execution_count": null,
   "metadata": {},
   "outputs": [],
   "source": [
    "%%bash --bg \n",
    "rviz -d `rospack find ca_tools`/rviz/robot_description.rviz"
   ]
  },
  {
   "cell_type": "markdown",
   "metadata": {},
   "source": [
    "## Usando subscriptores\n",
    "\n",
    "Para poder leer la información que publica el robot es necesario operar con subscriptores, para ello se provee un ejemplo de Python básico para escuchar un _tópico_ cualquiera. Modifíquelo para que pueda escucharse la **odometría**: "
   ]
  },
  {
   "cell_type": "code",
   "execution_count": null,
   "metadata": {},
   "outputs": [],
   "source": [
    "#!/usr/bin/env python\n",
    "import rospy\n",
    "from std_msgs.msg import String\n",
    "\n",
    "def callback(data):\n",
    "  # Función que se llama cada vez que el nodo recibe un dato\n",
    "  rospy.loginfo(\"Valor leído: %s\", data.data)\n",
    "\n",
    "def main():\n",
    "\n",
    "  # Se crea el nodo y se le asigna un nombre\n",
    "  # SOLO PUEDE HABER UN SOLO NODO POR EJECUTABLE\n",
    "  rospy.init_node('subscriber_node')\n",
    "  # Hago que el nodo se suscriba a un String de nombre 'topic_name'\n",
    "  #   y llame a callback() cada vez que recibe un dato nuevo\n",
    "  rospy.Subscriber(\"topic_name\", String, callback)\n",
    "  # Como ROS no funciona en tiempo real, debe llamarse a spin() para procesar el callback()\n",
    "  rospy.spin()\n",
    "\n",
    "if __name__ == '__main__':\n",
    "  main()"
   ]
  },
  {
   "cell_type": "markdown",
   "metadata": {},
   "source": [
    "¿Observa algo usando `rosnode list`? ¿Qué sucede si publico en el tópico mencionado?\n",
    "\n",
    "Los datos recibidos son estructuras, y en el caso del ejemplo (`std_msgs/String`) pueden conocerse usando un simple comando:"
   ]
  },
  {
   "cell_type": "code",
   "execution_count": null,
   "metadata": {},
   "outputs": [],
   "source": [
    "%%bash \n",
    "rosmsg show std_msgs/String"
   ]
  },
  {
   "cell_type": "markdown",
   "metadata": {},
   "source": [
    "Para dejar de ejecutar el node subscriptor, corra el siguiente comando:"
   ]
  },
  {
   "cell_type": "code",
   "execution_count": null,
   "metadata": {},
   "outputs": [],
   "source": [
    "%%bash \n",
    "rosnode kill /subscriber_node"
   ]
  },
  {
   "cell_type": "markdown",
   "metadata": {},
   "source": [
    "## Usando publicadores\n",
    "El siguiente código de ejemplo muestra cómo enviar código a través de un _tópico_. Modifíquelo para poder mover el robot.\n",
    "**Ayuda:** Para poder mover un robot del tipo diferencial usando mensajes `Twist`, se deben modificar los parámetros:\n",
    "- Lineal > x\n",
    "- Angular > z\n",
    "\n",
    "A modo de recuerdo, la conformación del mensaje tipo `Twist` puede saberse usando:"
   ]
  },
  {
   "cell_type": "code",
   "execution_count": null,
   "metadata": {},
   "outputs": [],
   "source": [
    "%%bash \n",
    "rosmsg show geometry_msgs/Twist"
   ]
  },
  {
   "cell_type": "code",
   "execution_count": null,
   "metadata": {},
   "outputs": [],
   "source": [
    "#!/usr/bin/env python\n",
    "import rospy\n",
    "from std_msgs.msg import String\n",
    "\n",
    "def main():\n",
    "  pub = rospy.Publisher('topic_name', String, queue_size=10)\n",
    "  rospy.init_node('publisher_node')\n",
    "  # Variable que va a ser usada para generar un 'loop de tiempo'\n",
    "  rate = rospy.Rate(10) # 10 Hz\n",
    "  \n",
    " # Mientras no se cierre el nodo, ejecutar el código\n",
    "  while not rospy.is_shutdown():\n",
    "    texto = String()\n",
    "    texto.data = \"Hola!\"\n",
    "    pub.publish(texto)\n",
    "    # Una vez procesado todo lo anterior, el código se va a pausar para enviar\n",
    "    #   la información periódicamente según la variable 'rate'.\n",
    "    # Tener en cuenta que, si este valor es muy bajo, el código no funcionará correctamente.\n",
    "    rate.sleep()\n",
    "\n",
    "if __name__ == '__main__':\n",
    "  # Ejemplo básico de cómo atrapar excepciones en Python.\n",
    "  # Cuando se mate el nodo publisher_node, no saltará una excepción.\n",
    "  try:\n",
    "    main()\n",
    "  except rospy.ROSInterruptException:\n",
    "    pass"
   ]
  },
  {
   "cell_type": "markdown",
   "metadata": {},
   "source": [
    "Una manera sencilla para que el nodo `publisher_node` deje de publicar es matándolo por terminal o presionando `Ctrl + C`."
   ]
  },
  {
   "cell_type": "code",
   "execution_count": null,
   "metadata": {},
   "outputs": [],
   "source": [
    "%%bash \n",
    "rosnode kill /publisher_node"
   ]
  },
  {
   "cell_type": "markdown",
   "metadata": {},
   "source": [
    "Ahora que sabemos como escribir y publicar en _tópicos_ por código en Python, ¿Cómo podemos poner todo junto en un **paquete**?."
   ]
  },
  {
   "cell_type": "markdown",
   "metadata": {},
   "source": [
    "### [Manejo de nodos remoto](http://wiki.ros.org/ROS/NetworkSetup#Setting_a_name_explicitly)\n",
    "\n",
    "Para poder mover al Turtlebot desde otra computadora, será necesario configurar algunas opciones, pero antes de comenzar deberemos tener en cuenta que:\n",
    "- En el robot correrá el **Máster**\n",
    "- En otra computadora correrá el **Esclavo**\n",
    "\n",
    "La configuración para el Máster es la siguiente:\n",
    "\n",
    "`$ roscore`\n",
    "\n",
    "`$ hostname -I`\n",
    "\n",
    "`$ export ROS_IP=<IP_MASTER>`"
   ]
  },
  {
   "cell_type": "markdown",
   "metadata": {},
   "source": [
    "Y para configurar la computadora remote se necesita:\n",
    "\n",
    "`$ export ROS_MASTER_URI=http://IP_MASTER:11311`\n",
    "\n",
    "`$ hostname -I`\n",
    "\n",
    "`$ export ROS_IP=<IP_SLAVE>`"
   ]
  },
  {
   "cell_type": "markdown",
   "metadata": {},
   "source": [
    "### [Niveles de verbosidad](http://wiki.ros.org/rospy/Overview/Logging)\n",
    "\n"
   ]
  },
  {
   "cell_type": "code",
   "execution_count": null,
   "metadata": {},
   "outputs": [],
   "source": [
    "#!/usr/bin/env python\n",
    "import rospy\n",
    "\n",
    "if __name__ == '__main__':\n",
    "  # Niveles de verbosidad: \n",
    "  # rospy.DEBUG\n",
    "  # rospy.INFO\n",
    "  # rospy.WARN\n",
    "  # rospy.ERROR\n",
    "  # rospy.FATAL\n",
    "  rospy.init_node(\"log_verbosity_node\", log_level=rospy.DEBUG)\n",
    "  # Imprimiendo los diferentes tipos de mensajes\n",
    "  rospy.logdebug(\"Debug\")\n",
    "  rospy.loginfo(\"Information\")\n",
    "  rospy.logwarn(\"Warning\")\n",
    "  rospy.logerr(\"Error\")\n",
    "  rospy.logfatal(\"Fatal\")\n"
   ]
  }
 ],
 "metadata": {
  "kernelspec": {
   "display_name": "Python 2",
   "language": "python",
   "name": "python2"
  },
  "language_info": {
   "codemirror_mode": {
    "name": "ipython",
    "version": 2
   },
   "file_extension": ".py",
   "mimetype": "text/x-python",
   "name": "python",
   "nbconvert_exporter": "python",
   "pygments_lexer": "ipython2",
   "version": "2.7.17"
  }
 },
 "nbformat": 4,
 "nbformat_minor": 1
}
