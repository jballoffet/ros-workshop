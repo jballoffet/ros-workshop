{
 "cells": [
  {
   "cell_type": "markdown",
   "metadata": {},
   "source": [
    "# Modelado de robots y sensores\n",
    "\n",
    "Cómo modelar robots y sensores en ROS usando XACRO (y URDF).\n",
    "\n",
    "**Autor:** _Ing. Emiliano J. Borghi Orué_ (eborghiorue@frba.utn.edu.ar) \n",
    "\n",
    "![Banner](media/banner.png)\n"
   ]
  },
  {
   "cell_type": "markdown",
   "metadata": {},
   "source": [
    "### XML\n",
    "\n",
    "- Para modelar robots y sensores, se utiliza el lenguaje XML.\n",
    "- Se puede representar la cinemática y dinámica del robot."
   ]
  },
  {
   "cell_type": "markdown",
   "metadata": {},
   "source": [
    "### Etiquetas XML\n",
    "\n",
    "Básicamente, existen 4 etiquetas para describir un robot:\n",
    "\n",
    "1. Link\n",
    "2. Joint\n",
    "3. robot\n",
    "4. Gazebo"
   ]
  },
  {
   "cell_type": "markdown",
   "metadata": {},
   "source": [
    "#### Link\n",
    "\n",
    "Representa un solo eslabón del robot y permite especificar sus propiedades, como tamaño, forma, color o una textura 3D compleja importada. También se pueden proveer propiedades dinámicas al eslabón como la matriz de inercia y propiedadesde colisión. La sintaxis es la siguiente:"
   ]
  },
  {
   "cell_type": "code",
   "execution_count": null,
   "metadata": {},
   "outputs": [],
   "source": [
    "<link name=\"eslabon_1\">\n",
    "    <inertial>...........</inertial>\n",
    "    <visual> ............</visual>\n",
    "    <collision>..........</collision>\n",
    "</link>"
   ]
  },
  {
   "cell_type": "markdown",
   "metadata": {},
   "source": [
    "La sección visual representa el eslabón real del robot y el ́area alrededor del eslabón es la sección de colisión que se utiliza para detectar colisiones antes de chocar con el eslabón real. La siguiente figura da una idea de esto.\n",
    "\n",
    "<img src=\"media/link.png\" />"
   ]
  },
  {
   "cell_type": "markdown",
   "metadata": {},
   "source": [
    "#### Joint\n",
    "\n",
    "Esta etiqueta representa las articulaciones del robot. Se pueden especificar la cinemática y dinámica de la articulación, así como establecer los límites del movimiento articular y de su velocidad. Esta etiqueta soporta articulaciones de revolución, contínuas, prismáticas, fijas y flotantes. La sintaxis es la siguiente:"
   ]
  },
  {
   "cell_type": "code",
   "execution_count": null,
   "metadata": {},
   "outputs": [],
   "source": [
    "<joint name=\"articulacion_1\">\n",
    "    <parent link=\"link1\"/>\n",
    "    <child link=\"link2\"/>\n",
    "    <calibration .... />\n",
    "    <dynamics damping ..../>\n",
    "    <limit effort .... />\n",
    "</joint>"
   ]
  },
  {
   "cell_type": "markdown",
   "metadata": {},
   "source": [
    "Una articulación queda definida cuando se especifican los eslabones que une: el primero es llamado padre (__parent__) y el segundo hijo (__child__). Una  ilustración de esta relación se muestra en la siguiente figura:\n",
    "\n",
    "<img src=\"media/joint.png\" />"
   ]
  },
  {
   "cell_type": "markdown",
   "metadata": {},
   "source": [
    "#### Robot\n",
    "\n",
    "Esta etiqueta encapsula todo el modelo del robot. Dentro de esta etiqueta se define el nombre del robot, los eslabones y las articulaciones del robot. La sintaxis es la siguiente:"
   ]
  },
  {
   "cell_type": "code",
   "execution_count": null,
   "metadata": {},
   "outputs": [],
   "source": [
    "<robot name=\"robot_1\">\n",
    "    <link> ..... </link>\n",
    "    <link> ...... </link>\n",
    "    <joint> ....... </joint>\n",
    "    <joint> ........</joint>\n",
    "</robot>"
   ]
  },
  {
   "cell_type": "markdown",
   "metadata": {},
   "source": [
    "Un modelo de robot consiste de articulaciones y eslabones conectados. Un ejemplo se muestra en la siguiente figura:\n",
    "\n",
    "<img src=\"media/robot_urdf.png\"/>"
   ]
  },
  {
   "cell_type": "markdown",
   "metadata": {},
   "source": [
    "#### Gazebo\n",
    "\n",
    "Esta etiqueta se utiliza cuando se incluyen parámetros de simulación para el simulador llamado **Gazebo**. Se puede usar esta etiqueta para incluir  __plugins__ de Gazebo, materiales o propiedades, entre otros."
   ]
  },
  {
   "cell_type": "markdown",
   "metadata": {},
   "source": [
    "## Referencias\n",
    "\n",
    "[http://wiki.ros.org/urdf/XML](http://wiki.ros.org/urdf/XML)"
   ]
  },
  {
   "cell_type": "markdown",
   "metadata": {},
   "source": [
    "## iRobot Create 2 en XACRO\n",
    "\n",
    "La descripción del robot se encuentra en `ca_description/urdf`.\n",
    "\n",
    "El archivo general es `create_2.xacro`.\n",
    "\n",
    "Los **sensores** se definen en `ca_description/urdf/sensors`."
   ]
  },
  {
   "cell_type": "markdown",
   "metadata": {},
   "source": [
    "## XACRO a URDF y SDF\n",
    "\n",
    "Para convertir un archivo Xacro a URDF hay que ejecutar los siguientes comandos:"
   ]
  },
  {
   "cell_type": "code",
   "execution_count": null,
   "metadata": {},
   "outputs": [],
   "source": [
    "roscd ca_description/urdf/\n",
    "\n",
    "roscore &\n",
    "\n",
    "rosrun xacro xacro --inorder create_2.xacro [*] > test.urdf"
   ]
  },
  {
   "cell_type": "markdown",
   "metadata": {},
   "source": [
    "<div class=\"alert alert-block alert-warning\">\n",
    "<b>Importante:</b> Reemplace [*] con los argumentos correspondientes. Por ejemplo, `visualize:=false`.\n",
    "</div>"
   ]
  },
  {
   "cell_type": "markdown",
   "metadata": {},
   "source": [
    "Para corroborar si existen errores de sintaxis con _URDF_ se debe executar el siguiente comando:"
   ]
  },
  {
   "cell_type": "code",
   "execution_count": null,
   "metadata": {},
   "outputs": [],
   "source": [
    "check_urdf test.urdf"
   ]
  },
  {
   "cell_type": "markdown",
   "metadata": {},
   "source": [
    "Para ver el archivo SDF que Gazebo va a utilizar en la simulación, ejecute:"
   ]
  },
  {
   "cell_type": "code",
   "execution_count": null,
   "metadata": {},
   "outputs": [],
   "source": [
    "gz sdf -p test.urdf > test.sdf"
   ]
  }
 ],
 "metadata": {
  "kernelspec": {
   "display_name": "Python 2",
   "language": "python",
   "name": "python2"
  },
  "language_info": {
   "codemirror_mode": {
    "name": "ipython",
    "version": 2
   },
   "file_extension": ".py",
   "mimetype": "text/x-python",
   "name": "python",
   "nbconvert_exporter": "python",
   "pygments_lexer": "ipython2",
   "version": "3.6.9"
  }
 },
 "nbformat": 4,
 "nbformat_minor": 1
}