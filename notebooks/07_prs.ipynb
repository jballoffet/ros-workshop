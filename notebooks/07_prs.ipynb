{
 "nbformat": 4,
 "nbformat_minor": 2,
 "metadata": {
  "language_info": {
   "name": "python",
   "codemirror_mode": {
    "name": "ipython",
    "version": 3
   }
  },
  "orig_nbformat": 2,
  "file_extension": ".py",
  "mimetype": "text/x-python",
  "name": "python",
  "npconvert_exporter": "python",
  "pygments_lexer": "ipython3",
  "version": 3
 },
 "cells": [
  {
   "cell_type": "markdown",
   "metadata": {},
   "source": [
    "# Creaciones de PRs en Github\n",
    "Cómo crear PRs de manera correcta en la organización y agregar funcionalidades nuevas.\n",
    "\n",
    "**Autor:** _Ing. Emiliano J. Borghi Orué_ (eborghiorue@frba.utn.edu.ar) \n",
    "\n",
    "![Banner](media/banner.png)\n"
   ]
  },
  {
   "cell_type": "markdown",
   "metadata": {},
   "source": [
    "# Nuestra propia copia de `create_autonomy`\n",
    "Para poder agregar  funcionalidades al código, la mejor manera de hacerlo es a través de una copia propia que tengamos, no \"mandando\" código directamente al repositorio original debido a que podemos introducir *bugs*.\n",
    "Por lo tanto, lo primero que debemos hacer es *forkear* el repositorio `create_autonomy` y `libcreate` como se explica en otra notebook.\n",
    "Para verificar que todo esté bien, debe ejecutarse lo siguiente:"
   ]
  },
  {
   "cell_type": "code",
   "execution_count": null,
   "metadata": {},
   "outputs": [],
   "source": [
      "$ git remote -v\n\n",
      "origin  git@github.com:<USUARIO-DE-GITHUB>/create_autonomy.git (fetch)\n",
      "origin  git@github.com:<USUARIO-DE-GITHUB>/create_autonomy.git (push)"
   ]
  },
  {
   "cell_type": "markdown",
   "metadata": {},
   "source": [
    "Donde `origin` es el nombre que va a tener asociado el fork.\n",
    "\n",
    "# Agregar cambios al repositorio\n",
    "Los cambios que vayamos haciendo se pueden introducir con dos comandos:"
   ]
  },
  {
   "cell_type": "code",
   "execution_count": null,
   "metadata": {},
   "outputs": [],
   "source": [
      "git add <ARCHIVOS>"
   ]
  },
  {
   "cell_type": "markdown",
   "metadata": {},
   "source": [
    "Donde `origin` es el nombre que va a tener asociado el fork.\n",
    "\n",
    "Donde se irán agregando los archivos que quieras *pushear*. Una vez hecho esto, debemos hacer:"
   ]
  },
  {
   "cell_type": "code",
   "execution_count": null,
   "metadata": {},
   "outputs": [],
   "source": [
      "git -m \"Aquí debe especificarse el motivo por el cual se agregraron los archivos.\""
   ]
  },
  {
   "cell_type": "markdown",
   "metadata": {},
   "source": [
    "Una vez que fueron todos los archivos *commiteados*, es hora de pushearlos al fork:"
   ]
  },
  {
   "cell_type": "code",
   "execution_count": null,
   "metadata": {},
   "outputs": [],
   "source": [
      "git push origin kinetic-devel"
   ]
  },
  {
   "cell_type": "markdown",
   "metadata": {},
   "source": [
    "Hay dos cosas importantes a saber de este comando:\n",
    "- `origin`: tenemos que especificar hacia donde queremos mandar los cambios. Es este caso será el fork previamente creado.\n",
    "- `kinetic-devel`: el *branch* que deseamos pushear. Se usa el principal por defecto ya que no se ha creado ninguno nuevo y se está trabajando allí.\n",
    "\n",
    "# Creación del *pull request*\n",
    "Una vez pusheados los cambios, nos aparecerá en el [repositorio de la **organización**](https://github.com/RoboticaUtnFrba/create_autonomy) un botón que permitirá crear el PR:\n",
    "\n",
    "![Banner](media/pr.png)\n",
    "\n",
    "Luego de completar los datos pedidos y agregar a revisores, los cambios aparecerán en la lista de PRs.\n",
    "\n",
    "# [Travis CI](https://travis-ci.org/) como herramienta de integración continua\n",
    "Hay dos motivos por los cuales no vamos a poder introducir el código al repositorio principal:\n",
    "1. Un revisor tiene que aprovar los cambios\n",
    "2. La herramienta de integración continua tiene que chequear los cambios y dar el okay.\n",
    "\n",
    "La [integración continua](https://aws.amazon.com/es/devops/continuous-integration/) permite ejecutar pruebas automáticas que evitar que el código deje de funcionar por algún defecto en el código y que a los revisores se les pueda haber pasado.\n",
    "Todos los detalles sobre qué testeos realiza Travis en el repositorio se encuentran en este [archivo](https://github.com/RoboticaUtnFrba/create_autonomy/blob/kinetic-devel/.travis.yml):\n",
    "- Compilación\n",
    "- Tests\n",
    "- Linting para archivos de C++ y Python"
   ]
  }
 ]
}