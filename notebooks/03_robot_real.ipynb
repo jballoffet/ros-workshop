{
 "cells": [
  {
   "cell_type": "markdown",
   "metadata": {},
   "source": [
    "# Instrucciones para usar el robot real\n",
    "\n",
    "Cómo usar el robot real de manera remota y qué sensores tiene.\n",
    "\n",
    "**Autor:** _Ing. Emiliano J. Borghi Orué_ (eborghiorue@frba.utn.edu.ar) \n",
    "\n",
    "![Banner](media/banner.png)\n"
   ]
  },
  {
   "cell_type": "markdown",
   "metadata": {},
   "source": [
    "## Información general\n",
    "\n",
    "iRobot Create 2 es un robot del tipo diferencial.\n",
    "\n",
    "### Robot diferencial\n",
    "\n",
    "<img src=\"media/diff-drive.png\" />\n",
    "\n",
    "#### Eq. cinemáticas\n",
    "\n",
    "\\begin{align}\n",
    "\n",
    "V_{R} = \\omega \\cdot ( R + \\frac{L}{2} ) \\\\\n",
    "V_{L} = \\omega \\cdot ( R - \\frac{L}{2} )\n",
    "\n",
    "\\\\\\\\\n",
    "\n",
    "V_{R} = r \\cdot \\omega_{R} \\\\\n",
    "V_{L} = r \\cdot \\omega_{L}\n",
    "\n",
    "\\\\\\\\\n",
    "\n",
    "v = \\frac{V_{R} + V_{L}}{2} \\\\\n",
    "\\omega = \\frac{V_{R} - V_{L}}{L}\n",
    "\n",
    "\\\\\\\\\n",
    "\n",
    "\\begin{bmatrix}\n",
    "\\dot{x} \\\\ \n",
    "\\dot{y} \\\\ \n",
    "\\dot{\\theta}\n",
    "\\end{bmatrix}\n",
    "\n",
    "=\n",
    "\n",
    "\\begin{bmatrix}\n",
    "\\cos{ \\theta } && 0 \\\\ \n",
    "\\sin{ \\theta } && 0 \\\\ \n",
    "0 && 1\n",
    "\\end{bmatrix}\n",
    "\n",
    "\\cdot\n",
    "\n",
    "\\begin{bmatrix}\n",
    "v \\\\ \\omega\n",
    "\\end{bmatrix}\n",
    "\n",
    "\\end{align}\n",
    "\n",
    "### Sensores del robot\n",
    "\n",
    "- Nivel de batería\n",
    "- Sensor IR omnidireccional para dockeo\n",
    "- Sensor de precipicios x 4 (cliff)\n",
    "- Encoders x2\n",
    "- Wheel drop x2\n",
    "- Sensor de suciedad\n",
    "- Bumpers\n",
    "- IMU\n",
    "- LiDAR\n",
    "- Cámara\n",
    "- ..."
   ]
  },
  {
   "cell_type": "markdown",
   "metadata": {},
   "source": [
    "### Open Interface\n",
    "\n",
    "El robot ofrece la posibilidad de comunicarse con el robot a través de su puerto serie.\n",
    "Nosotros no usaremos este tipo de comunicación directamente, pero para saber más, el siguiente documento ofrece toda la información necesaria:"
   ]
  },
  {
   "cell_type": "code",
   "execution_count": null,
   "metadata": {},
   "outputs": [],
   "source": [
    "from IPython.display import IFrame\n",
    "IFrame(\"./media/iRobot_Roomba_600_Open_Interface_Spec.pdf\", width=512, height=768)"
   ]
  },
  {
   "cell_type": "markdown",
   "metadata": {},
   "source": [
    "### libcreate y create_autonomy\n",
    "Nosotros no usaremos lo anterior para comandar al robot de manera directa debido a que eso ya está implementado en el paquete de ROS [`libcreate`](https://github.com/RoboticaUtnFrba/libcreate).\n",
    "Para comandar al robot se usarán tópicos de ROS, los cuales son provistos por el metapaquete [`create_autonomy`](https://github.com/RoboticaUtnFrba/create_autonomy); más específicamente el paquete [`ca_driver`](https://github.com/RoboticaUtnFrba/create_autonomy/tree/kinetic-devel/ca_driver) se conecta a `libcreate` para leer el hardware y crear una interfaz de ROS.\n",
    "\n",
    "### [Conectándose al robot](https://github.com/RoboticaUtnFrba/create_autonomy/wiki/Remote-connection)\n",
    "Si se quiere conectar a la Nvidia Jetson Nano que controla al robot de manera remota, hay que realizar dos pasos:\n",
    "- Conectarse a la red WiFi **RoboticaUtnFrba**. Pedir la contraseña a los docentes de la cátedra.\n",
    "- Utilizar SSH con el siguente comando:"
   ]
  },
  {
   "cell_type": "code",
   "execution_count": null,
   "metadata": {},
   "outputs": [],
   "source": [
    "ssh USER@PC_NAME.local"
   ]
  },
  {
   "cell_type": "markdown",
   "metadata": {},
   "source": [
    "Reemplazar los datos `USER` y `PC_NAME` están anotados en una etiqueta en el robot.\n",
    "También será necesario introducir una contraseña para conectarse al robot, el cual también será provisto por la cátedra.\n",
    "\n",
    "#### [Primeras pruebas](https://github.com/RoboticaUtnFrba/create_autonomy/wiki/Getting-started#launch-files)\n",
    "La Nvidia Jetson Nano es una computadora como cualquier otra con Ubuntu 18.04.\n",
    "Para rápidamente probar el funcionamiento del robot se puede compilar el repositorio (en el branch que deseemos), sourcear, y ejecutar el launchfile deseado:"
   ]
  },
  {
   "cell_type": "code",
   "execution_count": null,
   "metadata": {},
   "outputs": [],
   "source": [
    "cd /create_ws/src/create_autonomy\n",
    "git fetch origin BRANCH_NAME\n",
    "git checkout origin BRANCH_NAME\n",
    "cd /create_ws\n",
    "catkin_make -DCMAKE_BUILD_TYPE=Release\n",
    "source devel/setup.bash\n",
    "roslaunch ca_driver create_2.launch"
   ]
  },
  {
   "cell_type": "markdown",
   "metadata": {},
   "source": [
    "Como podemos ver, y se ha mencionado previamente, se está ejecutando únicamente el launchfile que interface directamente con `libcreate`.\n",
    "\n",
    "#### [Obtener datos directamente a tu computadora](https://github.com/RoboticaUtnFrba/create_autonomy/wiki/Remote-connection)\n",
    "ROS permite que cualquier dispositivo en la misma red comparta el Máster y así ejecutar nodos de manera remota.\n",
    "Para que esto sea posible, hay que hacer un cambio a qué se ejecuta desde el robot:"
   ]
  },
  {
   "cell_type": "code",
   "execution_count": null,
   "metadata": {},
   "outputs": [],
   "source": [
    "roscd ca_bringup/scripts\n",
    "source robot_network_config.sh\n",
    "roslaunch ca_bringup minimal.launch raspicam_receiver_IP:=<COMPUTER_IP>"
   ]
  },
  {
   "cell_type": "markdown",
   "metadata": {},
   "source": [
    "Estos pasos anteriores cambias algunas variables de entorno de ROS para habilitar lo mencionado previamente.\n",
    "**Nota:** Reemplazar `<COMPUTER_IP>` por la IP de la Nvidia Jetson Nano, la cual puede obtenerse dentro de la misma con este comando:"
   ]
  },
  {
   "cell_type": "code",
   "execution_count": null,
   "metadata": {},
   "outputs": [],
   "source": [
    "hostname -I"
   ]
  },
  {
   "cell_type": "markdown",
   "metadata": {},
   "source": [
    "Ahora, desde la computadora, hay que ejecutar los siguientes comandos:"
   ]
  },
  {
   "cell_type": "code",
   "execution_count": null,
   "metadata": {},
   "outputs": [],
   "source": [
    "roscd ca_bringup/scripts\n",
    "source remote_access_config.sh <ROBOT_IP>"
   ]
  },
  {
   "cell_type": "markdown",
   "metadata": {},
   "source": [
    "La IP del robot es necesaria también aquí.\n",
    "Una vez hecho esto, podrás ver toda la información del robot. Por ejemplo:"
   ]
  },
  {
   "cell_type": "code",
   "execution_count": null,
   "metadata": {},
   "outputs": [],
   "source": [
    "rostopic list"
   ]
  },
  {
   "cell_type": "markdown",
   "metadata": {},
   "source": [
    "#### [Teleoperando al robot](https://github.com/RoboticaUtnFrba/create_autonomy/wiki/Getting-started#teleoperation)\n",
    "Al robot se lo puede teloperar con un joystick o el teclado de la PC:\n",
    "- Joystick:"
   ]
  },
  {
   "cell_type": "code",
   "execution_count": null,
   "metadata": {},
   "outputs": [],
   "source": [
    "roslaunch ca_tools joy_teleop.launch"
   ]
  },
  {
   "cell_type": "markdown",
   "metadata": {},
   "source": [
    "- Teclado:"
   ]
  },
  {
   "cell_type": "code",
   "execution_count": null,
   "metadata": {},
   "outputs": [],
   "source": [
    "roslaunch ca_tools keyboard_teleop.launch"
   ]
  }
 ],
 "metadata": {
  "kernelspec": {
   "display_name": "Python 2",
   "language": "python",
   "name": "python2"
  },
  "language_info": {
   "codemirror_mode": {
    "name": "ipython",
    "version": 2
   },
   "file_extension": ".py",
   "mimetype": "text/x-python",
   "name": "python",
   "nbconvert_exporter": "python",
   "pygments_lexer": "ipython2",
   "version": "2.7.17"
  }
 },
 "nbformat": 4,
 "nbformat_minor": 1
}
