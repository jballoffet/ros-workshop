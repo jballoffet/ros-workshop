{
 "cells": [
  {
   "cell_type": "markdown",
   "metadata": {},
   "source": [
    "# Configurar la computadora con el repositorio\n",
    "\n",
    "Cómo configurar la computadora y correr los primeros ejemplos usando el repositorio `create_autonomy`.\n",
    "\n",
    "**Autor:** _Ing. Emiliano J. Borghi Orué_ (eborghiorue@frba.utn.edu.ar)\n",
    "\n",
    "![Banner](media/banner.png)\n"
   ]
  },
  {
   "cell_type": "markdown",
   "metadata": {},
   "source": [
    "## Introducción\n",
    "\n",
    "En este documento se muestra cómo configurar la computadora para configurar el simulador y hacer la práctica de Robótica.\n",
    "\n",
    "## Configurar el repositorio por primera vez\n",
    "\n",
    "El repositorio consta de un conjunto de paquetes generales y varias dependencias:\n",
    "\n",
    "![Project Structure](media/project_structure.png)\n",
    "\n",
    "Hay dos maneras de trabajar con este repositorio, con un robot real o con un simulador de robots. Ambos, comparten el mismo repositorio de código.\n",
    "El proyecto y otras actividades están *hosteadas* en Github en el siguiente URL: \n",
    "[https://github.com/RoboticaUtnFrba](https://github.com/RoboticaUtnFrba)\n",
    "\n",
    "### Clonar el repo y las dependencias\n",
    "\n",
    "Para comenzar, es necesario contar con una computadora con Linux (preferentemente Ubuntu 18.04).\n",
    "Luego es conveniente crear una carpeta dentro de `/home/${USER}/` y allí descargar todos los proyectos de Github.\n",
    "\n",
    "Ir a los repositorios [`create_autonomy`](https://github.com/RoboticaUtnFrba/create_autonomy) y [`libcreate`](https://github.com/RoboticaUtnFrba/create_autonomy), y forkearlos:\n",
    "\n",
    "![Forking](media/fork.png)\n",
    "\n",
    "Luego, clonarse sus propios forks **usando SSH**:\n",
    "\n"
   ]
  },
  {
   "cell_type": "code",
   "execution_count": null,
   "metadata": {},
   "outputs": [],
   "source": [
    "mkdir -p /home/$USER/robotica\n",
    "cd /home/$USER/robotica\n",
    "git clone git@github.com:<USUARIO-DE-GITHUB>/create_autonomy.git\n",
    "git clone git@github.com:<USUARIO-DE-GITHUB>/libcreate.git\n"
   ]
  },
  {
   "cell_type": "markdown",
   "metadata": {},
   "source": [
    "Si tenés problemas clonando el repositorio con SSH del paso anterior, tenés que hacer [estos pasos](https://help.github.com/en/github/authenticating-to-github/adding-a-new-ssh-key-to-your-github-account) y es muy simple.\n",
    "\n\n",
    "Hay algunas otras dependencias que también es necesario instalar pero para ello tienen que ejecutarse los siguientes comandos:"
   ]
  },
  {
   "cell_type": "code",
   "execution_count": null,
   "metadata": {},
   "outputs": [],
   "source": [
    "cd /home/$USER/robotica\n",
    "sudo apt install -y python3-vcstool\n",
    "vcs import . < create_autonomy/rpi.repos"
   ]
  },
  {
   "cell_type": "markdown",
   "metadata": {},
   "source": [
    "### Compilar la imagen de Docker",
    "\n",
    "Durante la cursada vamos a usar [Docker](https://www.docker.com/resources/what-container) para no tener problemas de dependencias ni sistemas operativos diferentes.\n",
    "Para poder instalar la imagen de Docker del repositorio es necesario seguir las instrucciones que figuran en la [Wiki](https://github.com/RoboticaUtnFrba/create_autonomy/wiki):\n",
    "[https://github.com/RoboticaUtnFrba/create_autonomy/wiki/Setup-Docker](https://github.com/RoboticaUtnFrba/create_autonomy/wiki/Setup-Docker)\n",
    "\n",
    "**Importante:** Si contás con GPU tenés que instalar nvidia-docker2. Las instrucciones también están en la wiki.\n",
    "\n",
    "\n",
    "Una vez dentro del container de Docker, se puede probar el simulador pero también es recomendable leer la notebook de Python sobre Docker.\n\n",
    "### Organización dentro y fuera del Docker",
    "\n",
    "Es importante saber que en el *host* (la computadora local de uno), no es necesario armar un workspace de ROS debido a que el mismo solamente será usado dentro del Docker.\n",
    "Por lo tanto, la organización en este lugar podría quedar ordenada de la siguiente manera:"
   ]
  },
  {
   "cell_type": "code",
   "execution_count": null,
   "metadata": {},
   "outputs": [],
   "source": [
    "/home/$USER/robotica\n",
    "\t/create_autonomy\n",
    "\t\t/mi_nuevo_paquete_dependiente\n",
    "\t/libcreate\n",
    "\t/mi_nuevo_paquete_independiente"
   ]
  },
  {
   "cell_type": "markdown",
   "metadata": {},
   "source": [
    "Donde `mi_nuevo_paquete_dependiente` es un paquete donde los alumnos deben ir haciendo su proyecto final, y `mi_nuevo_paquete_independiente` podría ser cualquier prueba que vayan haciendo de ROS y no dependa de `create_autonomy`.\n\n",
    "Esta organización de directorios en el *host* se verá reflejada dentro del Docker de la siguiente manera:"
   ]
  },
  {
   "cell_type": "code",
   "execution_count": null,
   "metadata": {},
   "outputs": [],
   "source": [
    "/create_ws/src\n",
    "\t/create_autonomy\n",
    "\t\t/mi_nuevo_paquete_dependiente\n",
    "\t/libcreate\n",
    "\t/mi_nuevo_paquete_independiente"
   ]
  },
  {
   "cell_type": "markdown",
   "metadata": {},
   "source": [
    "Como podemos ver, se creó un workspace automáticamente (`create_ws`) junto con todos los paquetes que hemos creado."
   ]
  }
 ],
 "metadata": {
  "kernelspec": {
   "display_name": "Python 2",
   "language": "python",
   "name": "python2"
  },
  "language_info": {
   "codemirror_mode": {
    "name": "ipython",
    "version": 2
   },
   "file_extension": ".py",
   "mimetype": "text/x-python",
   "name": "python",
   "nbconvert_exporter": "python",
   "pygments_lexer": "ipython2",
   "version": "2.7.17-final"
  }
 },
 "nbformat": 4,
 "nbformat_minor": 1
}