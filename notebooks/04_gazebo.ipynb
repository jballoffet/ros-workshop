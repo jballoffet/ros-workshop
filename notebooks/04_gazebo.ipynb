{
 "cells": [
  {
   "cell_type": "markdown",
   "metadata": {},
   "source": [
    "# Instrucciones para usar el simulador\n",
    "Qué nos provee el simulador y qué podemos hacer con él.\n",
    "\n",
    "**Autor:** _Ing. Emiliano J. Borghi Orué_ (eborghiorue@frba.utn.edu.ar) \n",
    "\n",
    "![Banner](media/banner.png)\n"
   ]
  },
  {
   "cell_type": "markdown",
   "metadata": {},
   "source": [
    "# Introducción\n",
    "El simulador que se usa en la cursada se llama [**Gazebo**](http://gazebosim.org) y permite una comunicación a través de ROS, como lo hace el robot real.\n",
    "La mayor parte del código qué define los ambientes y las funcionalidades del simulador se encuentra en el paquete de ROS [`ca_gazebo`](https://github.com/RoboticaUtnFrba/create_autonomy/tree/kinetic-devel/ca_gazebo).\n",
    "\n",
    "Cómo usar Gazebo y en qué se diferencia del robot real.\n",
    "La idea de tener un simulador, además de los robots físicos, es poder hacer pruebas más rápidamente que en realidad, y evitar romper los robots en caso de fallas.\n",
    "Para que el simulador sea válido, tiene que poder replicar lo mejor posible lo que sucede en la realidad y proveer los tópicos de ROS que voy a necesitar.\n",
    "\n",
    "# Primeras pruebas\n",
    "Abrir la imagen de Docker y compilar el repositorio:"
   ]
  },
  {
   "cell_type": "code",
   "execution_count": null,
   "metadata": {},
   "outputs": [],
   "source": [
    "cd /create_ws\n",
    "catkin_make -DCMAKE_BUILD_TYPE=Release\n",
    "source devel/setup.bash"
   ]
  },
  {
   "cell_type": "markdown",
   "metadata": {},
   "source": [
    "Luego, ejecutar este comando:"
   ]
  },
  {
   "cell_type": "code",
   "execution_count": null,
   "metadata": {},
   "outputs": [],
   "source": [
    "roslaunch ca_gazebo create_empty_world.launch"
   ]
  },
  {
   "cell_type": "markdown",
   "metadata": {},
   "source": [
    "Como puede verse, el launch file usado forma parte del paquete `ca_gazebo`.\n",
    "Este comando permite lanzar la simulación más básica de todas: un solo robot en un ambiente vacío.\n",
    "\n",
    "# Más opciones de simulación\n",
    "Si queremos agregar más opciones a la simulación, se deben usar [estas opciones](https://github.com/RoboticaUtnFrba/create_autonomy/wiki/Launching-options), conocidas como *variables de entorno*.\n",
    "\n",
    "# [Variables de entorno del simulador](https://github.com/RoboticaUtnFrba/create_autonomy/wiki/Launching-options)\n",
    "Las variables de entorno son valores dinámicos que afectan al ejecutable. A continuación veremos algunas ejemplos: \n",
    "\n",
    "Queremos correr una simulación con dos robots y ademá que se ejecute RViz. Para ello, contamos con sus variables repectivas:\n",
    "- `NUM_ROBOTS` que pueden recibir un valor entre `0` e infinito, pero es recomendable no usar un valor mayor que `2`.\n",
    "- `RVIZ` puede recibir un booleano, donde `false` significa que no se ejecutará.\n",
    "\n",
    "Teniendo en cuenta lo anterior, y que podemos seleccionar otro ambiente de simulación como el `create_servicesim.launch`, el ejemplo quedaría de esta manera:"
   ]
  },
  {
   "cell_type": "code",
   "execution_count": null,
   "metadata": {},
   "outputs": [],
   "source": [
    "NUM_ROBOTS=2 RVIZ=true roslaunch ca_gazebo create_servicesim.launch"
   ]
  },
  {
   "cell_type": "markdown",
   "metadata": {},
   "source": [
    "Las distintas alternativas de ambientes de ejecución se encuentran en [este directorio](https://github.com/RoboticaUtnFrba/create_autonomy/tree/kinetic-devel/ca_gazebo/launch).\n",
    "\n",
    "Otro ejemplo se presenta a continuación: esta vez se quiere usar un laser distinto al que viene por defecto ([RPLidar A2](https://www.slamtec.com/en/Lidar/A2) o `rplidar`).\n",
    "Para ello, usaremos la variable de entorno `LASER`:"
   ]
  },
  {
   "cell_type": "code",
   "execution_count": null,
   "metadata": {},
   "outputs": [],
   "source": [
    "NUM_ROBOTS=1 LASER=r200 roslaunch ca_gazebo create_autorace.launch"
    ]
  },
  {
   "cell_type": "markdown",
   "metadata": {},
   "source": [
      "Como puede verse, se decidió usar un [Realsense R200](https://ark.intel.com/content/www/us/en/ark/products/92256/intel-realsense-camera-r200.html) de Intel, y además, se especificó que se usaría un único robot, valor que ya de por sí se usa por defecto.\n",
      "Por último, se seleccionó el entorno de simulación `autorace`."
   ]
  }
 ],
 "metadata": {
  "file_extension": ".py",
  "kernelspec": {
   "display_name": "Python 2",
   "language": "python",
   "name": "python2"
  },
  "language_info": {
   "codemirror_mode": {
    "name": "ipython",
    "version": 2
   },
   "file_extension": ".py",
   "mimetype": "text/x-python",
   "name": "python",
   "nbconvert_exporter": "python",
   "pygments_lexer": "ipython2",
   "version": "2.7.17"
  },
  "mimetype": "text/x-python",
  "name": "python",
  "npconvert_exporter": "python",
  "pygments_lexer": "ipython3",
  "version": 3
 },
 "nbformat": 4,
 "nbformat_minor": 2
}
